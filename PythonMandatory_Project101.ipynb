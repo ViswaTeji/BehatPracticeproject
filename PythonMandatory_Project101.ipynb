{
  "nbformat": 4,
  "nbformat_minor": 0,
  "metadata": {
    "colab": {
      "provenance": [],
      "authorship_tag": "ABX9TyOSmBs+Feoba24KUi8qYGxY",
      "include_colab_link": true
    },
    "kernelspec": {
      "name": "python3",
      "display_name": "Python 3"
    },
    "language_info": {
      "name": "python"
    }
  },
  "cells": [
    {
      "cell_type": "markdown",
      "metadata": {
        "id": "view-in-github",
        "colab_type": "text"
      },
      "source": [
        "<a href=\"https://colab.research.google.com/github/ViswaTeji/BehatPracticeproject/blob/master/PythonMandatory_Project101.ipynb\" target=\"_parent\"><img src=\"https://colab.research.google.com/assets/colab-badge.svg\" alt=\"Open In Colab\"/></a>"
      ]
    },
    {
      "cell_type": "markdown",
      "source": [
        "Q1: You are working in a bank, and you have been given two lists of the employees who worked in 2021. Employees’ names in list 1 are Ramesh, Suresh, Mahesh, Ali, Jacob, and Saritha. List 2 contains the names of Ali, Mukesh, Mahesh, Jacob, Sai, and Sarita. Please write a program that helps to identify people who are common in both lists. Please do not use any in-built function."
      ],
      "metadata": {
        "id": "OydVwuNcdYDY"
      }
    },
    {
      "cell_type": "code",
      "source": [
        "list1=['Ramesh', 'Suresh', 'Mahesh', 'Ali', 'Jacob', 'Saritha']\n",
        "list2=['Ali', 'Mukesh', 'Mahesh', 'Jacob', 'Sai', 'Sarita']\n",
        "cmn=''\n",
        "for i in list1:\n",
        "  for j in list2:\n",
        "    if i==j:\n",
        "       cmn=cmn+i+','\n",
        "print(cmn,\"are people who are common in both lists\")\n"
      ],
      "metadata": {
        "id": "wdXVn2ecdfk-"
      },
      "execution_count": null,
      "outputs": []
    },
    {
      "cell_type": "code",
      "source": [
        "list1=['Ramesh', 'Suresh', 'Mahesh', 'Ali', 'Jacob', 'Saritha']\n",
        "list2=['Ali', 'Mukesh', 'Mahesh', 'Jacob', 'Sai', 'Sarita']\n",
        "for i in range(len(list1)):\n",
        "  for j in range(len(list2)):\n",
        "    if list1[i]==list2[j]:\n",
        "      print(list1[i])\n",
        "print(\"are people who are common in both lists\")\n"
      ],
      "metadata": {
        "colab": {
          "base_uri": "https://localhost:8080/"
        },
        "id": "Czu0k_0vmrib",
        "outputId": "7e86d6ab-a69a-4a14-f552-bf27327268a2"
      },
      "execution_count": 44,
      "outputs": [
        {
          "output_type": "stream",
          "name": "stdout",
          "text": [
            "Mahesh\n",
            "Ali\n",
            "Jacob\n",
            "are people who are common in both lists\n"
          ]
        }
      ]
    },
    {
      "cell_type": "code",
      "source": [
        "#using built in function\n",
        "list1=['Ramesh', 'Suresh', 'Mahesh', 'Ali', 'Jacob', 'Saritha']\n",
        "list2=['Ali', 'Mukesh', 'Mahesh', 'Jacob', 'Sai', 'Sarita']\n",
        "print(list(set(list1).intersection(set(list2))))"
      ],
      "metadata": {
        "colab": {
          "base_uri": "https://localhost:8080/"
        },
        "id": "b5hVs_otnRec",
        "outputId": "c1ee94ff-f9da-4794-b07a-da75efcf2329"
      },
      "execution_count": 197,
      "outputs": [
        {
          "output_type": "stream",
          "name": "stdout",
          "text": [
            "['Jacob', 'Mahesh', 'Ali']\n"
          ]
        }
      ]
    },
    {
      "cell_type": "markdown",
      "source": [
        "Q2: While entering data, someone entered a few names as a common string “Ramesh Suresh Mohit”. Please write a program which separates all the names and converts them into a list. Once converted into a list, please write a program that adds their age.\n",
        "\n",
        "Ramesh:  25\n",
        "Suresh: 22\n",
        "Mohit: 26"
      ],
      "metadata": {
        "id": "9upOckxyo-5P"
      }
    },
    {
      "cell_type": "code",
      "source": [
        "string=\"Ramesh Suresh Mohit\"\n",
        "names=string.split()\n",
        "dict={}\n",
        "for i in names:\n",
        "  dict[i]=int(input())\n",
        "print(dict)\n"
      ],
      "metadata": {
        "colab": {
          "base_uri": "https://localhost:8080/"
        },
        "id": "Aj8tHPpSpD6n",
        "outputId": "9eb8ddba-b1ec-49de-b831-f42e70e3a9fb"
      },
      "execution_count": 198,
      "outputs": [
        {
          "output_type": "stream",
          "name": "stdout",
          "text": [
            "25\n",
            "22\n",
            "26\n",
            "{'Ramesh': 25, 'Suresh': 22, 'Mohit': 26}\n"
          ]
        }
      ]
    },
    {
      "cell_type": "markdown",
      "source": [
        "Q3: You are working in a medical store. A patient came to your medical store and asked to buy 2 strips of paracetamol, 3 strips of azithromycin, and 5 strips of Vitamin C. One strip of paracetamol costs Rs 35, one strip of azithromycin costs Rs 49, and one strip of vitamin c costs Rs. 33. Patient gave you Rs 2000. Please tell us what is the total cost of each medicine, the total cost of all medicine, and how much money you refunded to the patient.  \n"
      ],
      "metadata": {
        "id": "wWbH_lxSqyZW"
      }
    },
    {
      "cell_type": "code",
      "source": [
        "cost_paracetamol=35\n",
        "cost_azithromycin=49\n",
        "cost_vitaminc=33\n",
        "def medicine_cost(qty_paracetamol,qty_azithromycin,qty_vitaminc):\n",
        "    paracetamol=cost_paracetamol*qty_paracetamol\n",
        "    azithromycin=cost_azithromycin*qty_azithromycin\n",
        "    vitaminc=cost_vitaminc*qty_vitaminc\n",
        "    total_cost=paracetamol+azithromycin+vitaminc\n",
        "    print('Cost of each medicines are pracetamol={}, azithromycin={} and vitamin C={}'.format(paracetamol,azithromycin,vitaminc))\n",
        "    print('Total cost of all medicines is',total_cost)\n",
        "    return total_cost\n",
        "\n",
        "def money_refunded(amount_patient_gave):\n",
        "  refunded_amount=amount_patient_gave-medicine_cost(2,3,5) #can take input using input() to make it dynamic\n",
        "  return 'Amount to be refunded to patient',refunded_amount\n",
        "money_refunded(2000) #can take input using input()"
      ],
      "metadata": {
        "colab": {
          "base_uri": "https://localhost:8080/"
        },
        "id": "E25Y4Cizq4cM",
        "outputId": "5d8ab61e-364b-4cf2-a59e-0889c26e93ec"
      },
      "execution_count": 199,
      "outputs": [
        {
          "output_type": "stream",
          "name": "stdout",
          "text": [
            "Cost of each medicines are pracetamol=70, azithromycin=147 and vitamin C=165\n",
            "Total cost of all medicines is 382\n"
          ]
        },
        {
          "output_type": "execute_result",
          "data": {
            "text/plain": [
              "('Amount to be refunded to patient', 1618)"
            ]
          },
          "metadata": {},
          "execution_count": 199
        }
      ]
    },
    {
      "cell_type": "markdown",
      "source": [
        "Q4: Accept a sentence as input and find the number of vowels in it. Assume that the sentence has no punctuation marks. For example, I am learning python contains 6 vowels. This function should be applicable for all other different sentences."
      ],
      "metadata": {
        "id": "b_NPwTJtvH0z"
      }
    },
    {
      "cell_type": "code",
      "source": [
        "sentence=input('')\n",
        "count=0\n",
        "for l in list(sentence):\n",
        "  if l.lower() in ['a','e','i','o','u']:\n",
        "    count+=1\n",
        "print(\"Contains\",count, \"vowels\")"
      ],
      "metadata": {
        "colab": {
          "base_uri": "https://localhost:8080/"
        },
        "id": "3nrRrmOtvMfq",
        "outputId": "3380734e-82a7-4638-b4cd-a4a1faa8568c"
      },
      "execution_count": 209,
      "outputs": [
        {
          "output_type": "stream",
          "name": "stdout",
          "text": [
            "I am learning python\n",
            "Contains 6 vowels\n"
          ]
        }
      ]
    },
    {
      "cell_type": "markdown",
      "source": [
        "Q5: You have been appointed by the election commission to create a website. Your first task is to work on a program which tells candidates if they are eligible for voting or not. If they are eligible, your output should be ‘Congrats! You are eligible’; otherwise, it should tell that you have to return after X number of years. The eligibility criteria for voting is 18 years.\n",
        "For example, If someone is 18 or above, your output should be ‘Congrats! You are eligible’. If someone’s age is 15 years, it should print output as ‘return after 3 years’."
      ],
      "metadata": {
        "id": "L6jTfVHwwcKW"
      }
    },
    {
      "cell_type": "code",
      "source": [
        "age=int(input())\n",
        "if age>=18:\n",
        "  print('Congrats! You are eligible')\n",
        "else:\n",
        "  ret=18-age\n",
        "  print(f\"Sorry, you have to return after {ret} years\")"
      ],
      "metadata": {
        "colab": {
          "base_uri": "https://localhost:8080/"
        },
        "id": "cDPQvZXVwxkv",
        "outputId": "4b265742-cf8c-4d57-919f-c0e01fb33ea6"
      },
      "execution_count": 202,
      "outputs": [
        {
          "output_type": "stream",
          "name": "stdout",
          "text": [
            "14\n",
            "Sorry, you have to return after 4 years\n"
          ]
        }
      ]
    },
    {
      "cell_type": "markdown",
      "source": [
        "Q6: Given a list of integers, find the cumulative sum of the elements of the list and store them in another list.\n",
        "A = [1, 2, 3, 4, 5]\n",
        "Output:\n",
        "[1, 3, 6, 10, 15]"
      ],
      "metadata": {
        "id": "MjVrfiSBxhlV"
      }
    },
    {
      "cell_type": "code",
      "source": [
        "A = [1, 2, 3, 4, 5]\n",
        "j=0\n",
        "cummulative_sum=[]\n",
        "for i in A:\n",
        "  j+=i\n",
        "  cummulative_sum.append(j)\n",
        "print(\"Output:\",cummulative_sum)"
      ],
      "metadata": {
        "colab": {
          "base_uri": "https://localhost:8080/"
        },
        "id": "u1--oy9zxy4U",
        "outputId": "93cf5f02-6ed7-4db2-a552-2064a6a47297"
      },
      "execution_count": 207,
      "outputs": [
        {
          "output_type": "stream",
          "name": "stdout",
          "text": [
            "Output: [1, 3, 6, 10, 15]\n"
          ]
        }
      ]
    },
    {
      "cell_type": "markdown",
      "source": [
        "Q7:\n",
        "WAP to encode a message entered by user as per below conditions:\n",
        "for every word in the sentence,\n",
        "1. If the word starts with a vowel, encode it as the first and last letter of the word.\n",
        "2. If the word starts with a consonant, remove all vowels from it.\n",
        "Ensure the case insensitive comparisons/checks are performed.\n",
        "Please enter your text:The quick brown fox used to sleep inside this box\n",
        "Encoded Msg: Th qck brwn fx ud t slp ie ths bx"
      ],
      "metadata": {
        "id": "9Q6MzWBl2_Cj"
      }
    },
    {
      "cell_type": "code",
      "source": [
        "msg=input('Please enter your text:')\n",
        "word=msg.split()\n",
        "encoded_msg=[]\n",
        "\n",
        "for w in word:\n",
        "  if w[0].lower() in ['a','e','i','o','u']:\n",
        "    encoded_word=w[0]+w[-1]\n",
        "  else:\n",
        "    encoded_word = ''\n",
        "    for i in range(len(w)):\n",
        "      if w[i].lower() not in ['a','e','i','o','u']:\n",
        "        encoded_word+=w[i]\n",
        "      else:\n",
        "        continue\n",
        "  encoded_msg.append(encoded_word)\n",
        "print(\"Encoded msg:\",' '.join(encoded_msg))\n"
      ],
      "metadata": {
        "colab": {
          "base_uri": "https://localhost:8080/"
        },
        "id": "i1WvetpU3Df-",
        "outputId": "1d0ae1fb-1b0f-4580-dfaa-e2fca7bed853"
      },
      "execution_count": 206,
      "outputs": [
        {
          "output_type": "stream",
          "name": "stdout",
          "text": [
            "Please enter your text:The quick brown fox used to sleep inside this box\n",
            "Encoded msg: Th qck brwn fx ud t slp ie ths bx\n"
          ]
        }
      ]
    },
    {
      "cell_type": "markdown",
      "source": [
        "Q8:Write a program to implement run length encoding of a string\n",
        "\n",
        "RLE:Consecutive repetition of a character has to be replaced with the count of occurrences and the character\n",
        "\n",
        "Enter your string :aabbbccdddae\n",
        "\n",
        "Encoded: 2a3b2c3d1a1e"
      ],
      "metadata": {
        "id": "szoQXTPW9PLR"
      }
    },
    {
      "cell_type": "code",
      "source": [
        "string=input(\"Enter your string:\")\n",
        "encoded=''\n",
        "count=1\n",
        "for i in range(1,len(string)):\n",
        "  if string[i]==string[i-1]:\n",
        "    count+=1\n",
        "  else:\n",
        "    encoded+=str(count)+string[i-1]\n",
        "    count=1\n",
        "encoded+=str(count)+string[-1]\n",
        "print(\"Encoded:\",encoded)\n"
      ],
      "metadata": {
        "colab": {
          "base_uri": "https://localhost:8080/"
        },
        "id": "hHn-3Nr-9W92",
        "outputId": "b7181d84-47af-4846-cfbb-792cdc35e8e3"
      },
      "execution_count": 205,
      "outputs": [
        {
          "output_type": "stream",
          "name": "stdout",
          "text": [
            "Enter your string:aabbbccdddae\n",
            "Encoded: 2a3b2c3d1a1e\n"
          ]
        }
      ]
    }
  ]
}